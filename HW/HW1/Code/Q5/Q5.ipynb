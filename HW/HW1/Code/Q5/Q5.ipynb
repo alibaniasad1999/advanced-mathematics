{
 "cells": [
  {
   "cell_type": "code",
   "execution_count": 1,
   "metadata": {
    "ExecuteTime": {
     "end_time": "2023-10-19T14:34:49.906241Z",
     "start_time": "2023-10-19T14:34:49.268618Z"
    }
   },
   "outputs": [],
   "source": [
    "import sympy as sym"
   ]
  },
  {
   "cell_type": "code",
   "execution_count": 2,
   "outputs": [],
   "source": [
    "lamda, x1, x2, x3 = sym.symbols('lamda, x1, x2, x3')"
   ],
   "metadata": {
    "collapsed": false,
    "ExecuteTime": {
     "end_time": "2023-10-19T14:35:14.986529Z",
     "start_time": "2023-10-19T14:35:14.932939Z"
    }
   }
  },
  {
   "cell_type": "code",
   "execution_count": null,
   "outputs": [],
   "source": [
    "arr3 = sym.Matrix([2*x1 + x2 + x3 - 1, x1 + 2*x2 + x3 - 1, x1 + x2 + 2*x3 - 1])"
   ],
   "metadata": {
    "collapsed": false
   }
  }
 ],
 "metadata": {
  "language_info": {
   "name": "python"
  },
  "kernelspec": {
   "name": "python3",
   "language": "python",
   "display_name": "Python 3 (ipykernel)"
  }
 },
 "nbformat": 4,
 "nbformat_minor": 2
}
